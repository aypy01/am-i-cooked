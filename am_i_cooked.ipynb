{
  "nbformat": 4,
  "nbformat_minor": 0,
  "metadata": {
    "colab": {
      "provenance": [],
      "authorship_tag": "ABX9TyP7yA/kIxIyHVbdi8Xvzr8w",
      "include_colab_link": true
    },
    "kernelspec": {
      "name": "python3",
      "display_name": "Python 3"
    },
    "language_info": {
      "name": "python"
    }
  },
  "cells": [
    {
      "cell_type": "markdown",
      "metadata": {
        "id": "view-in-github",
        "colab_type": "text"
      },
      "source": [
        "<a href=\"https://colab.research.google.com/github/aypy01/am-i-cooked/blob/main/am_i_cooked.ipynb\" target=\"_parent\"><img src=\"https://colab.research.google.com/assets/colab-badge.svg\" alt=\"Open In Colab\"/></a>"
      ]
    },
    {
      "cell_type": "markdown",
      "source": [
        "# Heart Disease Risk Prediction using Machine Learning\n",
        "\n",
        "Welcome to this beginner-friendly end-to-end machine learning project where you’ll build a **Heart Disease Risk Predictor** using real-world health data from the **Framingham Heart Study**.\n",
        "\n",
        "---\n",
        "\n",
        "## What You’ll Learn\n",
        "\n",
        "In this project, you’ll walk through the **entire machine learning pipeline** — from raw CSV to intelligent prediction:\n",
        "\n",
        "###  1. Data Understanding & Cleaning\n",
        "- Load medical data using `pandas`\n",
        "- Handle missing values, outliers, and irrelevant features\n",
        "- Make decisions like **dropping columns** (e.g., `education`) that don’t directly contribute to model performance\n",
        "\n",
        "###  2. Data Preprocessing\n",
        "- Encode categorical values (e.g., Male/Female, Yes/No)\n",
        "- Feature scaling using `StandardScaler`\n",
        "- Train-test splitting for fair evaluation\n",
        "\n",
        "###  3. Model Training & Comparison\n",
        "- Train multiple classification models:\n",
        "  - Logistic Regression\n",
        "  - KNN\n",
        "  - Decision Tree\n",
        "  - Random Forest\n",
        "  - SVM, etc.\n",
        "- Evaluate them using:\n",
        "  - Accuracy\n",
        "  - Precision\n",
        "  - Recall\n",
        "  - F1-Score\n",
        "\n",
        "###  4. Model Selection & Saving\n",
        "- Automatically select the best model based on metrics\n",
        "- Save it using `pickle` for future use\n",
        "- Save the associated scaler object for consistent input formatting\n",
        "\n",
        "###  5. Building a Real-Time Predictor\n",
        "- Create a `final_predict()` function that takes user input\n",
        "- Use the trained model + scaler to make live predictions\n",
        "- Add fun, humorous terminal messages to make it feel interactive 😄\n",
        "\n",
        "---\n",
        "\n",
        "\n",
        "\n",
        "\n",
        "##  Final Output\n",
        "\n",
        "At the end of this project, you’ll have:\n",
        "\n",
        "- A trained and saved Machine Learning model (`best_model.pkl`)\n",
        "- A `Flask`-powered web app (`app.py`) that makes real-time predictions using the saved model\n",
        "- A properly scaled input pipeline using the saved `scaler.pkl`\n",
        "- Confidence working with `pandas`, `scikit-learn`, and deploying ML models\n",
        "- Insights into which health features influence **heart disease** risk the most\n",
        "\n",
        ">  You’ll also understand how to take a local [![Flask App](https://img.shields.io/badge/see%20here-app.py-000000?style=for-the-badge&logo=flask&logoColor=white)](https://github.com/aypy01/am-i-cooked/blob/main/app.py)  file and turn it into a working web interface where anyone can test their risk.\n",
        "\n",
        "\n",
        "---\n",
        "\n"
      ],
      "metadata": {
        "id": "9igvxkHNb2RI"
      }
    },
    {
      "cell_type": "markdown",
      "source": [
        "##Importing Libraries"
      ],
      "metadata": {
        "id": "uTdoKZIvBV2h"
      }
    },
    {
      "cell_type": "code",
      "execution_count": 239,
      "metadata": {
        "id": "ueJw7q0X8Lmt"
      },
      "outputs": [],
      "source": [
        "import pandas as pd\n",
        "import numpy as np\n",
        "\n",
        "import matplotlib.pylab as plt\n",
        "\n",
        "from sklearn.utils import resample\n",
        "from sklearn.model_selection import train_test_split\n",
        "\n"
      ]
    },
    {
      "cell_type": "markdown",
      "source": [
        "## Loading the Dataset\n",
        "\n",
        "The dataset is loaded from a CSV file using `pd.read_csv()` and stored in a variable called `dataset`.\n"
      ],
      "metadata": {
        "id": "nTxtL1jDBrWu"
      }
    },
    {
      "cell_type": "code",
      "source": [
        "# dataset= Data frame , a common variable to define a variable in pandas\n",
        "dataset = pd.read_csv(\"framingham.csv\")\n",
        "print(dataset.head())\n",
        "\n"
      ],
      "metadata": {
        "colab": {
          "base_uri": "https://localhost:8080/"
        },
        "id": "RdQS-Poa8g9-",
        "outputId": "a5301619-c233-4510-b834-14a483214adb"
      },
      "execution_count": 240,
      "outputs": [
        {
          "output_type": "stream",
          "name": "stdout",
          "text": [
            "   male  age  education  currentSmoker  cigsPerDay  BPMeds  prevalentStroke  \\\n",
            "0     1   39        4.0              0         0.0     0.0                0   \n",
            "1     0   46        2.0              0         0.0     0.0                0   \n",
            "2     1   48        1.0              1        20.0     0.0                0   \n",
            "3     0   61        3.0              1        30.0     0.0                0   \n",
            "4     0   46        3.0              1        23.0     0.0                0   \n",
            "\n",
            "   prevalentHyp  diabetes  totChol  sysBP  diaBP    BMI  heartRate  glucose  \\\n",
            "0             0         0    195.0  106.0   70.0  26.97       80.0     77.0   \n",
            "1             0         0    250.0  121.0   81.0  28.73       95.0     76.0   \n",
            "2             0         0    245.0  127.5   80.0  25.34       75.0     70.0   \n",
            "3             1         0    225.0  150.0   95.0  28.58       65.0    103.0   \n",
            "4             0         0    285.0  130.0   84.0  23.10       85.0     85.0   \n",
            "\n",
            "   TenYearCHD  \n",
            "0           0  \n",
            "1           0  \n",
            "2           0  \n",
            "3           1  \n",
            "4           0  \n"
          ]
        }
      ]
    },
    {
      "cell_type": "markdown",
      "source": [
        "## Checking for Missing Values\n",
        "\n",
        "We inspect null (missing) values in the dataset using `dataset.isnull().sum()`:\n",
        "\n",
        "- `dataset.isnull().sum()`  \n",
        "  → Returns the count of nulls in each column.\n",
        "\n",
        "- `dataset.isnull().sum().to_frame().T`  \n",
        "  → Converts the null counts into a DataFrame and transposes it to show column names horizontally for compact viewing.\n",
        "\n",
        "- `dataset.shape`  \n",
        "  → Displays the number of rows and columns in the dataset as `(rows, columns)`.\n",
        "\n",
        "\n",
        "After identifying missing values, we plan to handle them appropriately in the next step.\n"
      ],
      "metadata": {
        "id": "nrm6ci2JB3_Z"
      }
    },
    {
      "cell_type": "code",
      "source": [
        "# Display number of missing values in each column\n",
        "print(\"Missing values per column:\")\n",
        "print(dataset.isnull().sum())\n",
        "\n",
        "# Show the same data in a single-row DataFrame for a compact view\n",
        "print(\"\\nMissing values (transposed view):\")\n",
        "print(dataset.isnull().sum().to_frame().T)\n",
        "\n",
        "# Show the shape of the dataset: (rows, columns)\n",
        "print(\"\\nDataset shape (rows, columns):\")\n",
        "print(dataset.shape)\n",
        "\n",
        "# We'll handle the missing values next (e.g., by filling or dropping them)\n"
      ],
      "metadata": {
        "colab": {
          "base_uri": "https://localhost:8080/"
        },
        "id": "i82URqYq8wJe",
        "outputId": "05fba729-d125-4795-eea8-b8f55d855765"
      },
      "execution_count": 241,
      "outputs": [
        {
          "output_type": "stream",
          "name": "stdout",
          "text": [
            "Missing values per column:\n",
            "male                 0\n",
            "age                  0\n",
            "education          105\n",
            "currentSmoker        0\n",
            "cigsPerDay          29\n",
            "BPMeds              53\n",
            "prevalentStroke      0\n",
            "prevalentHyp         0\n",
            "diabetes             0\n",
            "totChol             50\n",
            "sysBP                0\n",
            "diaBP                0\n",
            "BMI                 19\n",
            "heartRate            1\n",
            "glucose            388\n",
            "TenYearCHD           0\n",
            "dtype: int64\n",
            "\n",
            "Missing values (transposed view):\n",
            "   male  age  education  currentSmoker  cigsPerDay  BPMeds  prevalentStroke  \\\n",
            "0     0    0        105              0          29      53                0   \n",
            "\n",
            "   prevalentHyp  diabetes  totChol  sysBP  diaBP  BMI  heartRate  glucose  \\\n",
            "0             0         0       50      0      0   19          1      388   \n",
            "\n",
            "   TenYearCHD  \n",
            "0           0  \n",
            "\n",
            "Dataset shape (rows, columns):\n",
            "(4238, 16)\n"
          ]
        }
      ]
    },
    {
      "cell_type": "markdown",
      "source": [
        "## Filling Missing Values\n",
        "\n",
        "- **Binary columns** (0/1 or True/False) are filled with the mode — the most frequently occurring value.\n",
        "- **Numerical columns** are filled with the median — a robust statistic less sensitive to outliers.\n",
        "- The target column (`TenYearCHD`) is **excluded** from any filling operations.\n",
        "\n",
        "> After filling, a check is done using `isnull().sum()` to confirm that all missing values are handled.\n",
        "\n",
        "Finally, we examine the target column's class distribution to detect imbalance.\n"
      ],
      "metadata": {
        "id": "NOsZEYykC0WD"
      }
    },
    {
      "cell_type": "code",
      "source": [
        "# Fill missing values in binary columns using the mode (most frequent value)\n",
        "# These columns contain boolean or binary (0/1) data\n",
        "binary_col = [\"male\", \"currentSmoker\", \"prevalentStroke\", \"prevalentHyp\", \"diabetes\"]\n",
        "\n",
        "for col in binary_col:\n",
        "    mode_value = dataset[col].mode()[0]\n",
        "    dataset[col] = dataset[col].fillna(mode_value)  # Fill missing with mode\n",
        "\n",
        "# Fill missing values in numerical columns using the median\n",
        "# These columns contain continuous numerical values (not binary)\n",
        "# Note: Do NOT include the target column here\n",
        "numerical_col = [\"cigsPerDay\", \"BPMeds\", \"totChol\", \"BMI\", \"heartRate\", \"glucose\"]\n",
        "\n",
        "for col in numerical_col:\n",
        "    median_value = dataset[col].median()\n",
        "    dataset[col] = dataset[col].fillna(median_value)  # Fill missing with median\n",
        "\n",
        "# Check if any missing values remain\n",
        "missing_values = dataset.isnull().sum().to_frame().T\n",
        "print(\"Remaining missing values (should be all zero):\")\n",
        "print(missing_values)\n",
        "\n",
        "# Check target variable distribution to detect class imbalance\n",
        "print(\"\\nTarget column distribution:\")\n",
        "print(dataset['TenYearCHD'].value_counts())\n"
      ],
      "metadata": {
        "colab": {
          "base_uri": "https://localhost:8080/"
        },
        "id": "noczPyZU81JX",
        "outputId": "fb5d3405-66a2-4835-c990-2a832580b0e7"
      },
      "execution_count": 242,
      "outputs": [
        {
          "output_type": "stream",
          "name": "stdout",
          "text": [
            "Remaining missing values (should be all zero):\n",
            "   male  age  education  currentSmoker  cigsPerDay  BPMeds  prevalentStroke  \\\n",
            "0     0    0        105              0           0       0                0   \n",
            "\n",
            "   prevalentHyp  diabetes  totChol  sysBP  diaBP  BMI  heartRate  glucose  \\\n",
            "0             0         0        0      0      0    0          0        0   \n",
            "\n",
            "   TenYearCHD  \n",
            "0           0  \n",
            "\n",
            "Target column distribution:\n",
            "TenYearCHD\n",
            "0    3594\n",
            "1     644\n",
            "Name: count, dtype: int64\n"
          ]
        }
      ]
    },
    {
      "cell_type": "markdown",
      "source": [
        "## Balancing the Target Column\n",
        "\n",
        "The dataset initially has an imbalanced target (`TenYearCHD`), where `0` (no heart disease) dominates over `1` (positive case).\n",
        "\n",
        "To address this:\n",
        "\n",
        "- The data is split into **majority** (`0`) and **minority** (`1`) classes.\n",
        "- The minority class is **oversampled** using `resample()` with replacement to match the majority count.\n",
        "- The result is a **balanced dataset** with equal counts of both classes.\n",
        "\n",
        "> **Note:**  \n",
        "> `random_state=42` ensures reproducibility.  \n",
        "> `stratify=None` is acceptable here since we’re manually balancing.\n",
        "\n",
        "We verify balance using `value_counts()` on the target column.\n"
      ],
      "metadata": {
        "id": "GDIQftGrDm9Q"
      }
    },
    {
      "cell_type": "code",
      "source": [
        "# Balance the target column ('TenYearCHD') by oversampling the minority class (1s)\n",
        "\n",
        "# Separate the majority and minority classes\n",
        "majority = dataset[dataset[\"TenYearCHD\"] == 0]\n",
        "minority = dataset[dataset[\"TenYearCHD\"] == 1]\n",
        "\n",
        "# Oversample the minority class to match the number of majority samples\n",
        "minority_unsampling = resample(\n",
        "    minority,\n",
        "    replace=True,                 # Sample with replacement\n",
        "    n_samples=len(majority),      # Match the majority count\n",
        "    random_state=42               # For reproducibility\n",
        ")\n",
        "\n",
        "# Combine majority and resampled minority data\n",
        "balanced_data = pd.concat([majority, minority_unsampling])\n",
        "\n",
        "# Check class distribution after balancing\n",
        "print(\"Balanced target distribution:\")\n",
        "print(balanced_data['TenYearCHD'].value_counts())\n"
      ],
      "metadata": {
        "colab": {
          "base_uri": "https://localhost:8080/"
        },
        "id": "b2K1AD9R9ia0",
        "outputId": "19028cc6-5ab5-461c-f1a5-1c069bb4d815"
      },
      "execution_count": 243,
      "outputs": [
        {
          "output_type": "stream",
          "name": "stdout",
          "text": [
            "Balanced target distribution:\n",
            "TenYearCHD\n",
            "0    3594\n",
            "1    3594\n",
            "Name: count, dtype: int64\n"
          ]
        }
      ]
    },
    {
      "cell_type": "markdown",
      "source": [
        "## Train-Test Split\n",
        "\n",
        "We prepare the dataset for training by:\n",
        "\n",
        "- **Separating features and target**:\n",
        "  - Drop `TenYearCHD` (the target column) and `education` (excluded from modeling).\n",
        "- **Splitting the data**:\n",
        "  - 80% of the data is used for training, and 20% for testing.\n",
        "  - `shuffle=True` ensures random distribution.\n",
        "  - `random_state=42` keeps the split reproducible across runs.\n"
      ],
      "metadata": {
        "id": "cvSYx0oYD7gQ"
      }
    },
    {
      "cell_type": "code",
      "source": [
        "# Split the balanced dataset into features (X) and target (y)\n",
        "# Dropping 'education' column as it's not needed, and 'TenYearCHD' since it's the target\n",
        "X = balanced_data.drop(columns=[\"education\", \"TenYearCHD\"]).values\n",
        "y = balanced_data[\"TenYearCHD\"].values\n",
        "\n",
        "# Perform an 80-20 train-test split\n",
        "X_train, X_test, y_train, y_test = train_test_split(\n",
        "    X,\n",
        "    y,\n",
        "    train_size=0.8,\n",
        "    random_state=42,  # For consistent results\n",
        "    shuffle=True      # Ensure data is randomly shuffled before splitting\n",
        ")\n"
      ],
      "metadata": {
        "id": "PBlGyMnD9pTL"
      },
      "execution_count": 244,
      "outputs": []
    },
    {
      "cell_type": "markdown",
      "source": [
        "## Data Preprocessing\n",
        "\n",
        "We apply feature scaling to normalize the dataset:\n",
        "\n",
        "- **StandardScaler** is used to scale the data to have zero mean and unit variance.\n",
        "- **QuantileTransformer** was tested as an alternative — it maps the features to a normal distribution, reducing the influence of outliers.\n",
        "\n",
        "> **Why we chose StandardScaler:**  \n",
        "> Although `QuantileTransformer` handles outliers well, it may cause overfitting, especially with limited or noisy data.  \n",
        "> For this case, `StandardScaler` provides better generalization and preserves the original feature structure.\n"
      ],
      "metadata": {
        "id": "QnwZ_bkiEC79"
      }
    },
    {
      "cell_type": "code",
      "source": [
        "# Import preprocessing tools\n",
        "from sklearn.preprocessing import StandardScaler, QuantileTransformer\n",
        "\n",
        "# Initialize StandardScaler for normalization (zero mean, unit variance)\n",
        "scaler = StandardScaler()\n",
        "\n",
        "# Also initialize QuantileTransformer for comparison\n",
        "# It transforms features to follow a normal distribution and reduces the effect of outliers\n",
        "qt = QuantileTransformer(output_distribution=\"normal\")\n",
        "\n",
        "# Apply StandardScaler: fit on training, transform both train and test\n",
        "X_train_scaled = scaler.fit_transform(X_train)\n",
        "X_test_scaled = scaler.transform(X_test)\n",
        "\n",
        "# QuantileTransformer was tested but not used due to risk of overfitting\n",
        "# It smooths outliers, but may distort the feature distribution too much on small datasets\n"
      ],
      "metadata": {
        "id": "iRCZmAj19wob"
      },
      "execution_count": 245,
      "outputs": []
    },
    {
      "cell_type": "markdown",
      "source": [
        "## (Optional) Testing QuantileTransformer\n",
        "\n",
        "This block was used to test how `QuantileTransformer` affects the data.\n",
        "\n",
        "- It transforms features to follow a normal distribution.\n",
        "- Good for handling skewed data or reducing the impact of outliers.\n",
        "\n",
        "However, the transformed values may **distort original feature relationships**, potentially leading to **overfitting** — especially in small or sensitive datasets.\n",
        "\n",
        "> As a result, this approach was not used in the final model.\n"
      ],
      "metadata": {
        "id": "UwmQOcJNEN-p"
      }
    },
    {
      "cell_type": "code",
      "source": [
        "X_train_qt=qt.fit_transform(X_train)\n",
        "X_test__qt=qt.transform(X_test)\n",
        "\n",
        "print(f'Quantile Scaler Train: {pd.DataFrame(X_train_qt)}')\n",
        "print(f'Quantile Scale Test: {pd.DataFrame(X_test__qt)}')"
      ],
      "metadata": {
        "colab": {
          "base_uri": "https://localhost:8080/"
        },
        "id": "WbqzUlXO9-wh",
        "outputId": "8a635871-478b-4585-c358-5612cdb09d32"
      },
      "execution_count": 246,
      "outputs": [
        {
          "output_type": "stream",
          "name": "stdout",
          "text": [
            "Quantile Scaler Train:             0         1         2         3         4         5         6   \\\n",
            "0    -5.199338 -0.926176 -5.199338 -5.199338 -5.199338 -5.199338 -5.199338   \n",
            "1     5.199338  0.243255  5.199338  0.776528 -5.199338 -5.199338  5.199338   \n",
            "2    -5.199338 -1.858747  5.199338  0.776528 -5.199338 -5.199338 -5.199338   \n",
            "3    -5.199338  1.247505  5.199338  0.290058 -5.199338 -5.199338  5.199338   \n",
            "4    -5.199338  1.629992 -5.199338 -5.199338 -5.199338 -5.199338  5.199338   \n",
            "...        ...       ...       ...       ...       ...       ...       ...   \n",
            "5745 -5.199338  1.442543 -5.199338 -5.199338 -5.199338 -5.199338  5.199338   \n",
            "5746  5.199338  2.119668 -5.199338 -5.199338 -5.199338 -5.199338 -5.199338   \n",
            "5747  5.199338 -0.807429 -5.199338 -5.199338 -5.199338 -5.199338 -5.199338   \n",
            "5748  5.199338  0.516356 -5.199338 -5.199338  5.199338 -5.199338  5.199338   \n",
            "5749  5.199338 -0.595437  5.199338  0.776528 -5.199338 -5.199338 -5.199338   \n",
            "\n",
            "            7         8         9         10        11        12        13  \n",
            "0    -5.199338 -0.637923  0.075345 -0.115678 -1.349498  0.033880  0.205941  \n",
            "1    -5.199338  1.307063  0.565738  0.683178  0.189310  1.780005 -0.824933  \n",
            "2    -5.199338 -1.805023 -1.169401 -0.873515 -1.137677  0.033880  0.971436  \n",
            "3    -5.199338 -0.016310  1.744448  1.411293  0.559183 -1.497997 -0.542335  \n",
            "4    -5.199338  0.182928  1.295363  0.466803 -0.749670  0.651824  0.971436  \n",
            "...        ...       ...       ...       ...       ...       ...       ...  \n",
            "5745 -5.199338 -0.135911  1.123415  1.358913  1.644369 -0.644086 -0.641002  \n",
            "5746 -5.199338 -0.558392 -0.257495 -0.318969 -1.014571 -0.577557  0.465405  \n",
            "5747 -5.199338 -0.771450 -1.513589 -0.873515 -0.427976 -1.497997 -0.824933  \n",
            "5748 -5.199338  1.721914  1.817968  1.910600  0.057742 -1.189522  0.840906  \n",
            "5749  5.199338  0.928105  0.226489  0.234219  1.208778  0.476619  1.892244  \n",
            "\n",
            "[5750 rows x 14 columns]\n",
            "Quantile Scale Test:             0         1         2         3         4         5         6   \\\n",
            "0    -5.199338  0.516356 -5.199338 -5.199338 -5.199338 -5.199338  5.199338   \n",
            "1     5.199338  0.860725 -5.199338 -5.199338 -5.199338 -5.199338 -5.199338   \n",
            "2     5.199338 -2.511791  5.199338  1.831224 -5.199338 -5.199338 -5.199338   \n",
            "3     5.199338  2.575483  5.199338  0.410169 -5.199338 -5.199338 -5.199338   \n",
            "4    -5.199338  0.069056  5.199338  0.776528  5.199338 -5.199338  5.199338   \n",
            "...        ...       ...       ...       ...       ...       ...       ...   \n",
            "1433 -5.199338 -2.967430  5.199338  0.776528 -5.199338 -5.199338 -5.199338   \n",
            "1434 -5.199338 -1.639539  5.199338  0.056486  5.199338 -5.199338  5.199338   \n",
            "1435  5.199338  1.088723  5.199338  0.056486 -5.199338 -5.199338 -5.199338   \n",
            "1436 -5.199338 -0.205941 -5.199338 -5.199338 -5.199338 -5.199338  5.199338   \n",
            "1437  5.199338 -0.404717  5.199338  2.241016 -5.199338 -5.199338 -5.199338   \n",
            "\n",
            "            7         8         9         10        11        12        13  \n",
            "0    -5.199338 -0.105580  1.654145  1.541796  2.173511 -0.816150 -5.199338  \n",
            "1    -5.199338 -0.135911  1.159515 -0.587964  0.892038 -0.577557 -2.225823  \n",
            "2    -5.199338 -1.554270 -1.169401 -1.918441 -1.310017 -0.171458 -1.025123  \n",
            "3    -5.199338 -1.114032  0.492137 -1.509656 -0.711981  0.033880 -0.739737  \n",
            "4    -5.199338 -1.976943  1.529558  1.933362  1.509656  2.004234  1.397837  \n",
            "...        ...       ...       ...       ...       ...       ...       ...  \n",
            "1433 -5.199338 -1.554270 -0.809168 -0.873515 -1.006211 -0.961429 -0.429351  \n",
            "1434 -5.199338 -0.070314 -0.384375 -0.318969 -0.838017  1.644369 -0.037646  \n",
            "1435 -5.199338 -0.070314 -0.840906 -0.318969  0.333524  0.303168 -1.192071  \n",
            "1436 -5.199338 -0.809168  0.185480  0.910873 -0.132113  1.780005 -0.542335  \n",
            "1437 -5.199338 -0.256198 -0.336178  0.053973 -2.033104 -0.644086 -0.542335  \n",
            "\n",
            "[1438 rows x 14 columns]\n"
          ]
        }
      ]
    },
    {
      "cell_type": "code",
      "source": [
        "# Matplotlib (for visualization)\n",
        "# This section is used to visually compare the effect of different scalers (StandardScaler vs. QuantileTransformer)\n",
        "import matplotlib.pyplot as plt\n",
        "\n",
        "\n",
        "# Function to plot distributions of the first 3 features\n",
        "def plot_feature_dist(X, title):\n",
        "    plt.figure(figsize=(15, 4))\n",
        "    for i in range(3):  # Plot first 3 features only\n",
        "        plt.subplot(1, 3, i + 1)\n",
        "        plt.hist(X[:, i], bins=30)\n",
        "        plt.title(f\"{title} - Feature {i}\")\n",
        "    plt.tight_layout()\n",
        "    plt.show()\n",
        "\n",
        "# Visual comparisons:\n",
        "plot_feature_dist(X_train, \"Original\")\n",
        "plot_feature_dist(X_train_scaled, \"Standard Scaled\")\n",
        "plot_feature_dist(X_train_qt, \"Quantile Transformed\")\n",
        "\n"
      ],
      "metadata": {
        "colab": {
          "base_uri": "https://localhost:8080/",
          "height": 1000
        },
        "id": "Qv_LRZ7e-Be2",
        "outputId": "d4266bd2-da80-4e4e-9ac8-42d3d96bb7ab"
      },
      "execution_count": 247,
      "outputs": [
        {
          "output_type": "display_data",
          "data": {
            "text/plain": [
              "<Figure size 1500x400 with 3 Axes>"
            ],
            "image/png": "[encoded data removed]"
          },
          "metadata": {}
        },
        {
          "output_type": "display_data",
          "data": {
            "text/plain": [
              "<Figure size 1500x400 with 3 Axes>"
            ],
            "image/png": "[encoded data removed]"
          },
          "metadata": {}
        },
        {
          "output_type": "display_data",
          "data": {
            "text/plain": [
              "<Figure size 1500x400 with 3 Axes>"
            ],
            "image/png": "[encoded data removed]"
          },
          "metadata": {}
        }
      ]
    },
    {
      "cell_type": "markdown",
      "source": [
        "## Model & Metric Imports\n",
        "\n",
        "This section loads various classification models and evaluation metrics:\n",
        "\n",
        "###  Models:\n",
        "- **Logistic Regression**: Linear classifier\n",
        "- **K-Nearest Neighbors**\n",
        "- **Decision Tree**\n",
        "- **Random Forest**\n",
        "- **AdaBoost**, **Gradient Boosting**\n",
        "- **Support Vector Classifier (SVC)**\n",
        "- **XGBoost Classifier**\n",
        "- **Gaussian Naive Bayes**\n",
        "\n",
        "### Evaluation Metrics:\n",
        "- `accuracy_score`: Measures overall correctness\n",
        "- `precision_score`: Measures correctness for the positive class\n",
        "- `confusion_matrix`: Shows actual vs. predicted values\n",
        "- `classification_report`: Summary of precision, recall, and F1-score\n",
        "\n",
        "> **Clarification:**  \n",
        "> Metrics do **not** give weights to features.  \n",
        "> They are only used to evaluate the performance of trained models.\n"
      ],
      "metadata": {
        "id": "9eL0ZuuNFIqr"
      }
    },
    {
      "cell_type": "code",
      "source": [
        "# Metrics :evaluate model performance on predicted vs. actual values.\n",
        "# Importing the Models\n",
        "from sklearn.linear_model import LogisticRegression\n",
        "from sklearn.neighbors import KNeighborsClassifier\n",
        "from sklearn.ensemble import (\n",
        "    RandomForestClassifier,\n",
        "    AdaBoostClassifier,\n",
        "    GradientBoostingClassifier,\n",
        ")\n",
        "from sklearn.tree import DecisionTreeClassifier\n",
        "from sklearn.svm import SVC\n",
        "from xgboost import XGBClassifier\n",
        "from sklearn.metrics import accuracy_score, precision_score, classification_report\n",
        "from sklearn.metrics import confusion_matrix\n",
        "from sklearn.naive_bayes import GaussianNB"
      ],
      "metadata": {
        "id": "z7mZF6-R-GYM"
      },
      "execution_count": 248,
      "outputs": []
    },
    {
      "cell_type": "code",
      "source": [
        "# Defining the list of classifiers so that thhey can be passed at same time\n",
        "# The purpose is to stream line and comapre different acuracy by individual models\n",
        "# Then selecting the optimal\n",
        "classifier_models = [\n",
        "    LogisticRegression(),\n",
        "    KNeighborsClassifier(),\n",
        "    RandomForestClassifier(),\n",
        "    AdaBoostClassifier(\n",
        "        algorithm=\"SAMME\"\n",
        "    ),  # the alrithm in adaboost by default is SAMME but defining it doest show the error\n",
        "    GradientBoostingClassifier(),\n",
        "    DecisionTreeClassifier(),\n",
        "    SVC(),\n",
        "    XGBClassifier(),\n",
        "    GaussianNB(),\n",
        "]\n"
      ],
      "metadata": {
        "id": "MiBw3Wub-Yvn"
      },
      "execution_count": 249,
      "outputs": []
    },
    {
      "cell_type": "markdown",
      "source": [
        "## Defining Classifiers for Batch Evaluation\n",
        "\n",
        "We define a list of classification models that will be trained and tested in a loop. This allows:\n",
        "\n",
        "- Easier model comparison\n",
        "- Streamlined evaluation of performance (e.g., accuracy, precision)\n",
        "- Selection of the most effective model for the task\n",
        "\n",
        "> **Note:**  \n",
        "> `algorithm=\"SAMME\"` is explicitly set in `AdaBoostClassifier`, although it’s the default. This avoids ambiguity and improves readability.\n",
        "\n",
        "An empty list is also prepared (in the next step) to store evaluation results from each model.\n",
        "\n"
      ],
      "metadata": {
        "id": "z7Udd16CFXZW"
      }
    },
    {
      "cell_type": "markdown",
      "source": [
        "Each model is trained and evaluated in a single loop:\n",
        "\n",
        "- **Training**: `.fit()` is called on the scaled training data.\n",
        "- **Prediction**: `.predict()` is used on the test set.\n",
        "- **Metrics Logged**:\n",
        "  - **Accuracy**: Overall correctness.\n",
        "  - **Precision**: How many predicted positives are actually positive.\n",
        "  - **Classification Report**: Includes precision, recall, and F1-score.\n",
        "  - **Confusion Matrix**: Breakdown of TP, FP, TN, FN.\n",
        "\n",
        "### Terminal Formatting (Optional):\n",
        "- Classifier names are printed in **green** using ANSI escape codes for visual clarity.\n",
        "- Symbols (`\"v\"*50`, `\"^\"*50`) create clear separators in the console output.\n",
        "\n",
        "Finally, results are stored in `results_list` for later comparison.\n"
      ],
      "metadata": {
        "id": "xQ4Z6y-LIERc"
      }
    },
    {
      "cell_type": "code",
      "source": [
        "# Train and Evaluate each Calassifier\n",
        "# # Creating empty list so then can be append the individual data here\n",
        "results_list = []\n",
        "\n",
        "# Train and evaluate each classifier\n",
        "for clf in classifier_models:\n",
        "    clf_name = clf.__class__.__name__\n",
        "    clf.fit(X_train_scaled, y_train)\n",
        "    y_prediction = clf.predict(X_test_scaled)\n",
        "    # Print the name in Green for better view\n",
        "    # FOr Terminal result printing\n",
        "    # Visual separator for model name output\n",
        "    print(\"v\" * 50)\n",
        "\n",
        "    # Print the classifier name in green for emphasis, then reset color\n",
        "    print(f'\\033[92m{clf_name}\\033[0m')  # \\033[92m = green text, \\033[0m = reset\n",
        "\n",
        "    print(\"^\" * 50)\n",
        "    print()  # Blank line for spacing\n",
        "\n",
        "    # To calculate the accuracy:\n",
        "    accuracy = accuracy_score(y_test, y_prediction)\n",
        "    print(f'{clf_name} accuracy: {accuracy}')\n",
        "    print(\"==\" * 50)\n",
        "\n",
        "    # For Precision\n",
        "    precision = precision_score(y_test, y_prediction, average=\"binary\")\n",
        "    print(f'{clf_name} precision: {precision}')\n",
        "    print(\"=\" * 50)\n",
        "\n",
        "    #Classification report\n",
        "    print(f'Classification Report For: {clf_name}')\n",
        "    print(f'{classification_report(y_test, y_prediction)}')\n",
        "    print(\"=\" * 50)\n",
        "\n",
        "    # Confusion Matrix:\n",
        "    print(f'Confusion Matrix For: {clf_name}')\n",
        "    print(f'{confusion_matrix(y_test, y_prediction)}')\n",
        "    print(\"=\" * 50)\n",
        "\n"
      ],
      "metadata": {
        "colab": {
          "base_uri": "https://localhost:8080/"
        },
        "id": "357qdJik-hw1",
        "outputId": "4700de34-e4d8-4c57-b298-56663490ff37"
      },
      "execution_count": 250,
      "outputs": [
        {
          "output_type": "stream",
          "name": "stdout",
          "text": [
            "vvvvvvvvvvvvvvvvvvvvvvvvvvvvvvvvvvvvvvvvvvvvvvvvvv\n",
            "\u001b[92mLogisticRegression\u001b[0m\n",
            "^^^^^^^^^^^^^^^^^^^^^^^^^^^^^^^^^^^^^^^^^^^^^^^^^^\n",
            "\n",
            "LogisticRegression accuracy: 0.6578581363004172\n",
            "====================================================================================================\n",
            "LogisticRegression precision: 0.6320109439124487\n",
            "==================================================\n",
            "Classification Report For: LogisticRegression\n",
            "              precision    recall  f1-score   support\n",
            "\n",
            "           0       0.68      0.64      0.66       753\n",
            "           1       0.63      0.67      0.65       685\n",
            "\n",
            "    accuracy                           0.66      1438\n",
            "   macro avg       0.66      0.66      0.66      1438\n",
            "weighted avg       0.66      0.66      0.66      1438\n",
            "\n",
            "==================================================\n",
            "Confusion Matrix For: LogisticRegression\n",
            "[[484 269]\n",
            " [223 462]]\n",
            "==================================================\n",
            "vvvvvvvvvvvvvvvvvvvvvvvvvvvvvvvvvvvvvvvvvvvvvvvvvv\n",
            "\u001b[92mKNeighborsClassifier\u001b[0m\n",
            "^^^^^^^^^^^^^^^^^^^^^^^^^^^^^^^^^^^^^^^^^^^^^^^^^^\n",
            "\n",
            "KNeighborsClassifier accuracy: 0.7816411682892906\n",
            "====================================================================================================\n",
            "KNeighborsClassifier precision: 0.7091319052987599\n",
            "==================================================\n",
            "Classification Report For: KNeighborsClassifier\n",
            "              precision    recall  f1-score   support\n",
            "\n",
            "           0       0.90      0.66      0.76       753\n",
            "           1       0.71      0.92      0.80       685\n",
            "\n",
            "    accuracy                           0.78      1438\n",
            "   macro avg       0.80      0.79      0.78      1438\n",
            "weighted avg       0.81      0.78      0.78      1438\n",
            "\n",
            "==================================================\n",
            "Confusion Matrix For: KNeighborsClassifier\n",
            "[[495 258]\n",
            " [ 56 629]]\n",
            "==================================================\n",
            "vvvvvvvvvvvvvvvvvvvvvvvvvvvvvvvvvvvvvvvvvvvvvvvvvv\n",
            "\u001b[92mRandomForestClassifier\u001b[0m\n",
            "^^^^^^^^^^^^^^^^^^^^^^^^^^^^^^^^^^^^^^^^^^^^^^^^^^\n",
            "\n",
            "RandomForestClassifier accuracy: 0.9652294853963839\n",
            "====================================================================================================\n",
            "RandomForestClassifier precision: 0.9453015427769986\n",
            "==================================================\n",
            "Classification Report For: RandomForestClassifier\n",
            "              precision    recall  f1-score   support\n",
            "\n",
            "           0       0.98      0.95      0.97       753\n",
            "           1       0.95      0.98      0.96       685\n",
            "\n",
            "    accuracy                           0.97      1438\n",
            "   macro avg       0.97      0.97      0.97      1438\n",
            "weighted avg       0.97      0.97      0.97      1438\n",
            "\n",
            "==================================================\n",
            "Confusion Matrix For: RandomForestClassifier\n",
            "[[714  39]\n",
            " [ 11 674]]\n",
            "==================================================\n"
          ]
        },
        {
          "output_type": "stream",
          "name": "stderr",
          "text": [
            "/usr/local/lib/python3.11/dist-packages/sklearn/ensemble/_weight_boosting.py:519: FutureWarning: The parameter 'algorithm' is deprecated in 1.6 and has no effect. It will be removed in version 1.8.\n",
            "  warnings.warn(\n"
          ]
        },
        {
          "output_type": "stream",
          "name": "stdout",
          "text": [
            "vvvvvvvvvvvvvvvvvvvvvvvvvvvvvvvvvvvvvvvvvvvvvvvvvv\n",
            "\u001b[92mAdaBoostClassifier\u001b[0m\n",
            "^^^^^^^^^^^^^^^^^^^^^^^^^^^^^^^^^^^^^^^^^^^^^^^^^^\n",
            "\n",
            "AdaBoostClassifier accuracy: 0.6536856745479833\n",
            "====================================================================================================\n",
            "AdaBoostClassifier precision: 0.6106508875739645\n",
            "==================================================\n",
            "Classification Report For: AdaBoostClassifier\n",
            "              precision    recall  f1-score   support\n",
            "\n",
            "           0       0.72      0.56      0.63       753\n",
            "           1       0.61      0.75      0.67       685\n",
            "\n",
            "    accuracy                           0.65      1438\n",
            "   macro avg       0.66      0.66      0.65      1438\n",
            "weighted avg       0.67      0.65      0.65      1438\n",
            "\n",
            "==================================================\n",
            "Confusion Matrix For: AdaBoostClassifier\n",
            "[[424 329]\n",
            " [169 516]]\n",
            "==================================================\n",
            "vvvvvvvvvvvvvvvvvvvvvvvvvvvvvvvvvvvvvvvvvvvvvvvvvv\n",
            "\u001b[92mGradientBoostingClassifier\u001b[0m\n",
            "^^^^^^^^^^^^^^^^^^^^^^^^^^^^^^^^^^^^^^^^^^^^^^^^^^\n",
            "\n",
            "GradientBoostingClassifier accuracy: 0.7127955493741307\n",
            "====================================================================================================\n",
            "GradientBoostingClassifier precision: 0.6739130434782609\n",
            "==================================================\n",
            "Classification Report For: GradientBoostingClassifier\n",
            "              precision    recall  f1-score   support\n",
            "\n",
            "           0       0.76      0.66      0.71       753\n",
            "           1       0.67      0.77      0.72       685\n",
            "\n",
            "    accuracy                           0.71      1438\n",
            "   macro avg       0.72      0.72      0.71      1438\n",
            "weighted avg       0.72      0.71      0.71      1438\n",
            "\n",
            "==================================================\n",
            "Confusion Matrix For: GradientBoostingClassifier\n",
            "[[498 255]\n",
            " [158 527]]\n",
            "==================================================\n",
            "vvvvvvvvvvvvvvvvvvvvvvvvvvvvvvvvvvvvvvvvvvvvvvvvvv\n",
            "\u001b[92mDecisionTreeClassifier\u001b[0m\n",
            "^^^^^^^^^^^^^^^^^^^^^^^^^^^^^^^^^^^^^^^^^^^^^^^^^^\n",
            "\n",
            "DecisionTreeClassifier accuracy: 0.9068150208623088\n",
            "====================================================================================================\n",
            "DecisionTreeClassifier precision: 0.8439450686641697\n",
            "==================================================\n",
            "Classification Report For: DecisionTreeClassifier\n",
            "              precision    recall  f1-score   support\n",
            "\n",
            "           0       0.99      0.83      0.90       753\n",
            "           1       0.84      0.99      0.91       685\n",
            "\n",
            "    accuracy                           0.91      1438\n",
            "   macro avg       0.91      0.91      0.91      1438\n",
            "weighted avg       0.92      0.91      0.91      1438\n",
            "\n",
            "==================================================\n",
            "Confusion Matrix For: DecisionTreeClassifier\n",
            "[[628 125]\n",
            " [  9 676]]\n",
            "==================================================\n",
            "vvvvvvvvvvvvvvvvvvvvvvvvvvvvvvvvvvvvvvvvvvvvvvvvvv\n",
            "\u001b[92mSVC\u001b[0m\n",
            "^^^^^^^^^^^^^^^^^^^^^^^^^^^^^^^^^^^^^^^^^^^^^^^^^^\n",
            "\n",
            "SVC accuracy: 0.6849791376912379\n",
            "====================================================================================================\n",
            "SVC precision: 0.6584699453551912\n",
            "==================================================\n",
            "Classification Report For: SVC\n",
            "              precision    recall  f1-score   support\n",
            "\n",
            "           0       0.71      0.67      0.69       753\n",
            "           1       0.66      0.70      0.68       685\n",
            "\n",
            "    accuracy                           0.68      1438\n",
            "   macro avg       0.69      0.69      0.68      1438\n",
            "weighted avg       0.69      0.68      0.69      1438\n",
            "\n",
            "==================================================\n",
            "Confusion Matrix For: SVC\n",
            "[[503 250]\n",
            " [203 482]]\n",
            "==================================================\n",
            "vvvvvvvvvvvvvvvvvvvvvvvvvvvvvvvvvvvvvvvvvvvvvvvvvv\n",
            "\u001b[92mXGBClassifier\u001b[0m\n",
            "^^^^^^^^^^^^^^^^^^^^^^^^^^^^^^^^^^^^^^^^^^^^^^^^^^\n",
            "\n",
            "XGBClassifier accuracy: 0.911682892906815\n",
            "====================================================================================================\n",
            "XGBClassifier precision: 0.8651832460732984\n",
            "==================================================\n",
            "Classification Report For: XGBClassifier\n",
            "              precision    recall  f1-score   support\n",
            "\n",
            "           0       0.96      0.86      0.91       753\n",
            "           1       0.87      0.96      0.91       685\n",
            "\n",
            "    accuracy                           0.91      1438\n",
            "   macro avg       0.91      0.91      0.91      1438\n",
            "weighted avg       0.92      0.91      0.91      1438\n",
            "\n",
            "==================================================\n",
            "Confusion Matrix For: XGBClassifier\n",
            "[[650 103]\n",
            " [ 24 661]]\n",
            "==================================================\n",
            "vvvvvvvvvvvvvvvvvvvvvvvvvvvvvvvvvvvvvvvvvvvvvvvvvv\n",
            "\u001b[92mGaussianNB\u001b[0m\n",
            "^^^^^^^^^^^^^^^^^^^^^^^^^^^^^^^^^^^^^^^^^^^^^^^^^^\n",
            "\n",
            "GaussianNB accuracy: 0.6091794158553546\n",
            "====================================================================================================\n",
            "GaussianNB precision: 0.7320754716981132\n",
            "==================================================\n",
            "Classification Report For: GaussianNB\n",
            "              precision    recall  f1-score   support\n",
            "\n",
            "           0       0.58      0.91      0.71       753\n",
            "           1       0.73      0.28      0.41       685\n",
            "\n",
            "    accuracy                           0.61      1438\n",
            "   macro avg       0.66      0.59      0.56      1438\n",
            "weighted avg       0.65      0.61      0.57      1438\n",
            "\n",
            "==================================================\n",
            "Confusion Matrix For: GaussianNB\n",
            "[[682  71]\n",
            " [491 194]]\n",
            "==================================================\n"
          ]
        }
      ]
    },
    {
      "cell_type": "markdown",
      "source": [
        "## Evaluating Model Performance\n",
        "\n",
        "Each model is evaluated using multiple metrics:\n",
        "\n",
        "- `accuracy_score()`: Overall correctness of predictions.\n",
        "- `classification_report()`: Provides precision, recall, and F1-score.\n",
        "  - `output_dict=True` allows us to extract specific values from the result.\n",
        "  - We use the **weighted average** values to account for class imbalance.\n",
        "\n",
        "The results are stored in a list of dictionaries (`results_list`) for organized comparison across all models.\n"
      ],
      "metadata": {
        "id": "iD4uyOvUHxMq"
      }
    },
    {
      "cell_type": "code",
      "source": [
        "results_list = []  # initialize\n",
        "\n",
        "for clf in classifier_models:\n",
        "    clf_name = clf.__class__.__name__\n",
        "\n",
        "    clf.fit(X_train, y_train)\n",
        "    y_prediction = clf.predict(X_test)\n",
        "\n",
        "    # Evaluation metrics\n",
        "    accuracy = accuracy_score(y_test, y_prediction)\n",
        "    report = classification_report(y_test, y_prediction, output_dict=True)\n",
        "    f1 = report[\"weighted avg\"][\"f1-score\"]\n",
        "    precision = report[\"weighted avg\"][\"precision\"]\n",
        "    recall = report[\"weighted avg\"][\"recall\"]\n",
        "\n",
        "    results_list.append({\n",
        "        \"Model\": clf_name,\n",
        "        \"Accuracy\": accuracy,\n",
        "        \"F1-Score\": f1,\n",
        "        \"Precision\": precision,\n",
        "        \"Recall\": recall,\n",
        "    })\n",
        "\n"
      ],
      "metadata": {
        "colab": {
          "base_uri": "https://localhost:8080/"
        },
        "id": "M3YLR24F-0hQ",
        "outputId": "288c5ad5-c418-42ea-ba96-4896c8a0ad2b"
      },
      "execution_count": 251,
      "outputs": [
        {
          "output_type": "stream",
          "name": "stderr",
          "text": [
            "/usr/local/lib/python3.11/dist-packages/sklearn/linear_model/_logistic.py:465: ConvergenceWarning: lbfgs failed to converge (status=1):\n",
            "STOP: TOTAL NO. OF ITERATIONS REACHED LIMIT.\n",
            "\n",
            "Increase the number of iterations (max_iter) or scale the data as shown in:\n",
            "    https://scikit-learn.org/stable/modules/preprocessing.html\n",
            "Please also refer to the documentation for alternative solver options:\n",
            "    https://scikit-learn.org/stable/modules/linear_model.html#logistic-regression\n",
            "  n_iter_i = _check_optimize_result(\n",
            "/usr/local/lib/python3.11/dist-packages/sklearn/ensemble/_weight_boosting.py:519: FutureWarning: The parameter 'algorithm' is deprecated in 1.6 and has no effect. It will be removed in version 1.8.\n",
            "  warnings.warn(\n"
          ]
        }
      ]
    },
    {
      "cell_type": "markdown",
      "source": [
        "##  Displaying the Best Model\n",
        "\n",
        "After compiling all evaluation metrics into the `result` DataFrame:\n",
        "\n",
        "- The entire DataFrame is printed with **green terminal text formatting** for visual clarity.\n",
        "- The model with the **highest accuracy** is selected from the top of the sorted DataFrame.\n"
      ],
      "metadata": {
        "id": "sr6GeP6lOHro"
      }
    },
    {
      "cell_type": "code",
      "source": [
        "# NOW create the results DataFrame and get best model\n",
        "result = (\n",
        "    pd.DataFrame(results_list)\n",
        "    .sort_values(by=\"Accuracy\", ascending=False) #The key workd sort can also be 'Precision or F1-Score or Recall\n",
        "    .reset_index(drop=True)\n",
        ")\n",
        "\n",
        "print(f\"\\033[92m{result}\\033[0m\")\n",
        "best_model = result.iloc[0][\"Model\"]\n",
        "print(\"#\" * 69)\n",
        "print(f\"\\033[92mThe model with the highest accuracy is: {best_model}\\033[0m\")\n",
        "print(\"#\" * 69)\n"
      ],
      "metadata": {
        "colab": {
          "base_uri": "https://localhost:8080/"
        },
        "id": "ur_iRUZUNzcI",
        "outputId": "d7bcf2a6-5c46-47c4-d743-45184648833f"
      },
      "execution_count": 252,
      "outputs": [
        {
          "output_type": "stream",
          "name": "stdout",
          "text": [
            "\u001b[92m                        Model  Accuracy  F1-Score  Precision    Recall\n",
            "0      RandomForestClassifier  0.965229  0.965248   0.965999  0.965229\n",
            "1               XGBClassifier  0.911683  0.911646   0.917133  0.911683\n",
            "2      DecisionTreeClassifier  0.903338  0.903054   0.915310  0.903338\n",
            "3        KNeighborsClassifier  0.778860  0.776496   0.801226  0.778860\n",
            "4  GradientBoostingClassifier  0.712796  0.712405   0.718545  0.712796\n",
            "5                         SVC  0.665508  0.665518   0.668425  0.665508\n",
            "6          AdaBoostClassifier  0.653686  0.651210   0.665297  0.653686\n",
            "7          LogisticRegression  0.641168  0.641344   0.642832  0.641168\n",
            "8                  GaussianNB  0.609179  0.565400   0.653183  0.609179\u001b[0m\n",
            "#####################################################################\n",
            "\u001b[92mThe model with the highest accuracy is: RandomForestClassifier\u001b[0m\n",
            "#####################################################################\n"
          ]
        }
      ]
    },
    {
      "cell_type": "markdown",
      "source": [
        "##  Retrieving the Best Trained Model Instance\n",
        "\n",
        "Once the best model name (`best_model`) is identified from the results DataFrame, we need to match it with the actual trained model object from the list of classifiers.\n",
        "\n",
        "This is done using a loop:"
      ],
      "metadata": {
        "id": "B1ryEZQQKC4n"
      }
    },
    {
      "cell_type": "code",
      "source": [
        "# Match the name with the actual trained model instance\n",
        "best_model_instance = None\n",
        "for clf in classifier_models:\n",
        "    if clf.__class__.__name__ == best_model:\n",
        "        best_model_instance = clf\n",
        "        break\n",
        "\n",
        "print(\"+\"*80)\n",
        "print(f'\\033[92m     Best Model is : {best_model_instance}\\033[0m')\n",
        "print(\"+\"*80)\n"
      ],
      "metadata": {
        "colab": {
          "base_uri": "https://localhost:8080/"
        },
        "id": "TH9f69Ix_BNs",
        "outputId": "29c0bd81-38be-4c63-af06-d0514ec22973"
      },
      "execution_count": 253,
      "outputs": [
        {
          "output_type": "stream",
          "name": "stdout",
          "text": [
            "++++++++++++++++++++++++++++++++++++++++++++++++++++++++++++++++++++++++++++++++\n",
            "\u001b[92m     Best Model is : RandomForestClassifier()\u001b[0m\n",
            "++++++++++++++++++++++++++++++++++++++++++++++++++++++++++++++++++++++++++++++++\n"
          ]
        }
      ]
    },
    {
      "cell_type": "code",
      "source": [
        "import pickle\n",
        "\n",
        "pickle.dump(best_model_instance, open(r\"model/best_model.pkl\", \"wb\"))\n",
        "pickle.dump(scaler, open(r\"model/scaler.pkl\", \"wb\"))\n",
        "\n",
        "# Loading the pickle saved file\n",
        "# For best model\n",
        "with open(r'model/best_model.pkl','rb')as file:\n",
        "    best_model_instance=pickle.load(file)\n",
        "#For scaler\n",
        "with open(r'model/scaler.pkl','rb')as file:\n",
        "    scaler=pickle.load(file)\n",
        "print(dataset.head(3))"
      ],
      "metadata": {
        "colab": {
          "base_uri": "https://localhost:8080/"
        },
        "id": "W1IBn99eO0sv",
        "outputId": "b063d8ac-beee-465a-d381-02837a90e37d"
      },
      "execution_count": 254,
      "outputs": [
        {
          "output_type": "stream",
          "name": "stdout",
          "text": [
            "   male  age  education  currentSmoker  cigsPerDay  BPMeds  prevalentStroke  \\\n",
            "0     1   39        4.0              0         0.0     0.0                0   \n",
            "1     0   46        2.0              0         0.0     0.0                0   \n",
            "2     1   48        1.0              1        20.0     0.0                0   \n",
            "\n",
            "   prevalentHyp  diabetes  totChol  sysBP  diaBP    BMI  heartRate  glucose  \\\n",
            "0             0         0    195.0  106.0   70.0  26.97       80.0     77.0   \n",
            "1             0         0    250.0  121.0   81.0  28.73       95.0     76.0   \n",
            "2             0         0    245.0  127.5   80.0  25.34       75.0     70.0   \n",
            "\n",
            "   TenYearCHD  \n",
            "0           0  \n",
            "1           0  \n",
            "2           0  \n"
          ]
        }
      ]
    },
    {
      "cell_type": "markdown",
      "source": [
        "##Save and Load Best Model with Pickle in Google Colab\n",
        "\n",
        "\n",
        "\n"
      ],
      "metadata": {
        "id": "gNhasqQNQWE3"
      }
    },
    {
      "cell_type": "code",
      "source": [
        "#Save the best model and scaler using pickle\n",
        "import pickle\n",
        "pickle.dump(best_model_instance, open(r\"best_model.pkl\", \"wb\"))\n",
        "pickle.dump(scaler, open(r\"scaler.pkl\", \"wb\"))\n",
        "\n",
        "# Load the pickle saved files\n",
        "with open(r'best_model.pkl', 'rb') as file:\n",
        "    best_model_instance = pickle.load(file)\n",
        "\n",
        "with open(r'scaler.pkl', 'rb') as file:\n",
        "    scaler = pickle.load(file)\n",
        "\n",
        "print(dataset.head(3))"
      ],
      "metadata": {
        "colab": {
          "base_uri": "https://localhost:8080/"
        },
        "id": "pt6UvC_TPZTq",
        "outputId": "80676ce9-e4f7-49e5-f553-b22f3fb24082"
      },
      "execution_count": 255,
      "outputs": [
        {
          "output_type": "stream",
          "name": "stdout",
          "text": [
            "   male  age  education  currentSmoker  cigsPerDay  BPMeds  prevalentStroke  \\\n",
            "0     1   39        4.0              0         0.0     0.0                0   \n",
            "1     0   46        2.0              0         0.0     0.0                0   \n",
            "2     1   48        1.0              1        20.0     0.0                0   \n",
            "\n",
            "   prevalentHyp  diabetes  totChol  sysBP  diaBP    BMI  heartRate  glucose  \\\n",
            "0             0         0    195.0  106.0   70.0  26.97       80.0     77.0   \n",
            "1             0         0    250.0  121.0   81.0  28.73       95.0     76.0   \n",
            "2             0         0    245.0  127.5   80.0  25.34       75.0     70.0   \n",
            "\n",
            "   TenYearCHD  \n",
            "0           0  \n",
            "1           0  \n",
            "2           0  \n"
          ]
        }
      ]
    },
    {
      "cell_type": "markdown",
      "source": [
        "##Final Prediction Function\n",
        "\n",
        "This function takes in raw user input (like age, glucose level, smoker status, etc.), performs necessary preprocessing, and returns a prediction using the trained and scaled best model.\n",
        "\n",
        "###Usage\n",
        "Make sure you have already loaded the trained model (`best_model`) and `scaler` using `pickle`.\n"
      ],
      "metadata": {
        "id": "yeWaaBN0RISo"
      }
    },
    {
      "cell_type": "code",
      "source": [
        "def final_predict(\n",
        "    best_model,\n",
        "    scaler,\n",
        "    male,\n",
        "    age,\n",
        "    currentSmoker,\n",
        "    cigsPerDay,\n",
        "    BPMeds,\n",
        "    prevalentStroke,\n",
        "    prevalentHyp,\n",
        "    diabetes,\n",
        "    totChol,\n",
        "    sysBP,\n",
        "    diaBP,\n",
        "    BMI,\n",
        "    heartRate,\n",
        "    glucose,\n",
        "):\n",
        "    male_encoded = 1 if male.casefold() == \"male\" else 0\n",
        "\n",
        "    currentSmoker_encoded = 1 if currentSmoker.casefold() == \"yes\" else 0\n",
        "\n",
        "    BPMeds_encoded = 1 if BPMeds.casefold() == \"yes\" else 0\n",
        "\n",
        "    prevalentStroke_encoded = 1 if prevalentStroke.casefold() == \"yes\" else 0\n",
        "\n",
        "    prevalentHyp_encoded = 1 if prevalentHyp.casefold() == \"yes\" else 0\n",
        "\n",
        "    diabetes_encoded = 1 if diabetes.casefold() == \"yes\" else 0\n",
        "\n",
        "    feature = np.array(\n",
        "        [\n",
        "            [\n",
        "                male_encoded,\n",
        "                age,\n",
        "                currentSmoker_encoded,\n",
        "                cigsPerDay,\n",
        "                BPMeds_encoded,\n",
        "                prevalentStroke_encoded,\n",
        "                prevalentHyp_encoded,\n",
        "                diabetes_encoded,\n",
        "                totChol,\n",
        "                sysBP,\n",
        "                diaBP,\n",
        "                BMI,\n",
        "                heartRate,\n",
        "                glucose,\n",
        "            ]\n",
        "        ]\n",
        "    )\n",
        "\n",
        "    scaled_feature = scaler.transform(feature)\n",
        "\n",
        "    predictive_result = best_model.predict(scaled_feature)\n",
        "\n",
        "    return predictive_result[0]"
      ],
      "metadata": {
        "id": "78llSw1V_kCO"
      },
      "execution_count": 256,
      "outputs": []
    },
    {
      "cell_type": "code",
      "source": [
        "# test 1:\n",
        "male = \"female\"\n",
        "age = 56.00\n",
        "currentSmoker = \"yes\"\n",
        "cigsPerDay = 3.00\n",
        "BPMeds = \"no\"\n",
        "prevalentStroke = \"no\"\n",
        "prevalentHyp = \"yes\"\n",
        "diabetes = \"no\"\n",
        "totChol = 285.00\n",
        "sysBP = 145.00\n",
        "diaBP = 100.00\n",
        "BMI = 30.14\n",
        "heartRate = 80.00\n",
        "glucose = 86.00\n",
        "\n",
        "\n",
        "test_1 = final_predict(\n",
        "    best_model_instance,\n",
        "    scaler,\n",
        "    male,\n",
        "    age,\n",
        "    currentSmoker,\n",
        "    cigsPerDay,\n",
        "    BPMeds,\n",
        "    prevalentStroke,\n",
        "    prevalentHyp,\n",
        "    diabetes,\n",
        "    totChol,\n",
        "    sysBP,\n",
        "    diaBP,\n",
        "    BMI,\n",
        "    heartRate,\n",
        "    glucose,\n",
        ")\n",
        "\n",
        "print(\"-\" * 69)\n",
        "print(\"Test  1\")\n",
        "if test_1 == 1:\n",
        "    print(\"\\033[1;91m Bruh, You are cooked 💀\\033[0m\")\n",
        "    if age <= 40:\n",
        "        print(\"They sent Batman to visit you.\\n He just came to say goodbye.\")\n",
        "    else:\n",
        "        print(\n",
        "            \"💀 Yep... definitely not your lucky day.\\n Maybe start writing that bucket list?\"\n",
        "        )\n",
        "else:\n",
        "    print(\n",
        "        \"\\033[92m😌 All good. But I’m just code written by someone who made this Python tutorials at 3AM, so... proceed with caution.\\033[0m\"\n",
        "    )"
      ],
      "metadata": {
        "colab": {
          "base_uri": "https://localhost:8080/"
        },
        "id": "S8Emzqam_rrO",
        "outputId": "aa0f780a-56e3-4e7d-a230-a9550d60720e"
      },
      "execution_count": 257,
      "outputs": [
        {
          "output_type": "stream",
          "name": "stdout",
          "text": [
            "---------------------------------------------------------------------\n",
            "Test  1\n",
            "\u001b[92m😌 All good. But I’m just code written by someone who made this Python tutorials at 3AM, so... proceed with caution.\u001b[0m\n"
          ]
        }
      ]
    },
    {
      "cell_type": "code",
      "source": [
        "# Test2 — Tuned to trigger high risk\n",
        "male = \"male\"\n",
        "age = 74.0\n",
        "currentSmoker = \"yes\"\n",
        "cigsPerDay = 25.0\n",
        "BPMeds = \"yes\"\n",
        "prevalentStroke = \"yes\"\n",
        "prevalentHyp = \"yes\"\n",
        "diabetes = \"yes\"\n",
        "totChol = 320.0\n",
        "sysBP = 190.0\n",
        "diaBP = 110.0\n",
        "BMI = 38.0\n",
        "heartRate = 105.0\n",
        "glucose = 160.0\n",
        "\n",
        "print(\"=\" * 69)\n",
        "test_2 = final_predict(\n",
        "    best_model_instance,\n",
        "    scaler,\n",
        "    male,\n",
        "    age,\n",
        "    currentSmoker,\n",
        "    cigsPerDay,\n",
        "    BPMeds,\n",
        "    prevalentStroke,\n",
        "    prevalentHyp,\n",
        "    diabetes,\n",
        "    totChol,\n",
        "    sysBP,\n",
        "    diaBP,\n",
        "    BMI,\n",
        "    heartRate,\n",
        "    glucose,\n",
        ")\n",
        "print(\"-\" * 69)\n",
        "print(\"Test 2\")\n",
        "\n",
        "if test_2 == 1:\n",
        "    print(\"\\033[1;91m💀 Bruh, You are cooked.\\033[0m\")\n",
        "    if age <= 18:\n",
        "        print(\n",
        "            \"\\033[1;91mThey sent Batman to visit you.\\nHe just came to say goodbye.\\033[0m\"\n",
        "        )\n",
        "    else:\n",
        "        print(\n",
        "            \"\\033[1;91m💀 Yep... definitely not your lucky day.\\nMaybe start writing that bucket list?\\033[0m\"\n",
        "        )\n",
        "else:\n",
        "    print(\n",
        "        \"\\033[92m😌 All good. But I’m just code written by someone who made this Python project tutorials at 3AM, so... proceed with caution.\\033[0m\"\n",
        "    )\n"
      ],
      "metadata": {
        "colab": {
          "base_uri": "https://localhost:8080/"
        },
        "id": "KxykCa8z95sc",
        "outputId": "e2aefd92-45e6-4088-9f85-0d76ed78489f"
      },
      "execution_count": 258,
      "outputs": [
        {
          "output_type": "stream",
          "name": "stdout",
          "text": [
            "=====================================================================\n",
            "---------------------------------------------------------------------\n",
            "Test 2\n",
            "\u001b[92m😌 All good. But I’m just code written by someone who made this Python project tutorials at 3AM, so... proceed with caution.\u001b[0m\n"
          ]
        }
      ]
    },
    {
      "cell_type": "markdown",
      "source": [
        "## Author\n",
        " <p align=\"left\">\n",
        "  Created and maintained by\n",
        "  <a href=\"https://github.com/aypy01\" target=\"_blank\">&nbsp Aaditya Yadav</a>&nbsp\n",
        "  <a href=\"https://github.com/aypy01\" target=\"_blank\">\n",
        "    <img src=\"https://img.shields.io/badge/aypy01-000000?style=flat-square&logo=github&logoColor=00FF80\" alt=\"GitHub Badge\"/>\n",
        "  </a>\n",
        "</p>\n",
        "\n",
        "</p>\n",
        "<p align=\"left\">\n",
        "  <img src=\"https://readme-typing-svg.demolab.com?font=Fira+Code&duration=3000&pause=500&color=00FF80&center=false&vCenter=false&width=440&lines=Break+Things+First%2C+Understand+Later;Built+to+Debug%2C+Not+Repeat;Learning+What+Actually+Sticks;Code.+Observe.+Refine.\" alt=\"Typing SVG\" />\n",
        "</p>"
      ],
      "metadata": {
        "id": "Ejdbq0SFeNuy"
      }
    },
    {
      "cell_type": "markdown",
      "source": [
        "## License\n",
        "\n",
        "This project is licensed under the [![License: MIT](https://img.shields.io/badge/License-MIT-yellow.svg)](https://opensource.org/licenses/MIT).\n"
      ],
      "metadata": {
        "id": "wtk2b2Edeg6S"
      }
    }
  ]
}